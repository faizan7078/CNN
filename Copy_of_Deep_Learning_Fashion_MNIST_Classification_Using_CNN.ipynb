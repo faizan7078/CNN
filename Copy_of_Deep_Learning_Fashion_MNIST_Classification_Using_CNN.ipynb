{
  "nbformat": 4,
  "nbformat_minor": 0,
  "metadata": {
    "colab": {
      "name": "Copy of Deep Learning :Fashion MNIST Classification Using CNN",
      "private_outputs": true,
      "provenance": [],
      "authorship_tag": "ABX9TyMiRNfulchVLpvloY6qsMHT",
      "include_colab_link": true
    },
    "kernelspec": {
      "name": "python3",
      "display_name": "Python 3"
    },
    "language_info": {
      "name": "python"
    }
  },
  "cells": [
    {
      "cell_type": "markdown",
      "metadata": {
        "id": "view-in-github",
        "colab_type": "text"
      },
      "source": [
        "<a href=\"https://colab.research.google.com/github/faizan7078/CNN/blob/main/Copy_of_Deep_Learning_Fashion_MNIST_Classification_Using_CNN.ipynb\" target=\"_parent\"><img src=\"https://colab.research.google.com/assets/colab-badge.svg\" alt=\"Open In Colab\"/></a>"
      ]
    },
    {
      "cell_type": "markdown",
      "metadata": {
        "id": "PIXetIRIz5ZJ"
      },
      "source": [
        "**we cover in this Project:**"
      ]
    },
    {
      "cell_type": "code",
      "metadata": {
        "id": "koRNG5_g0X_5"
      },
      "source": [
        "'''Import Libraries\n",
        "Load Data\n",
        "Show Image from Numbers\n",
        "Change Dimension / Feature Scaling\n",
        "Build First Convolutional Neural Network\n",
        "Train Model\n",
        "Test & Evaluate Model\n",
        "Confusion Matrix\n",
        "Classification Report\n",
        "Save Mode\n",
        "Build 2 Complex CNN'''\n"
      ],
      "execution_count": null,
      "outputs": []
    },
    {
      "cell_type": "markdown",
      "metadata": {
        "id": "NkNoXSyD1R0-"
      },
      "source": [
        "**Import Libraries**"
      ]
    },
    {
      "cell_type": "code",
      "metadata": {
        "id": "iRfD8jVX1Tpv"
      },
      "source": [
        "import numpy as np\n",
        "import matplotlib.pyplot as plt\n",
        "import seaborn as sns\n",
        "\n",
        "import keras"
      ],
      "execution_count": null,
      "outputs": []
    },
    {
      "cell_type": "markdown",
      "metadata": {
        "id": "1lwNHrok1aXL"
      },
      "source": [
        "** Load Data**"
      ]
    },
    {
      "cell_type": "code",
      "metadata": {
        "id": "woTg9kK6Wv8j"
      },
      "source": [
        "import tensorflow as tf\n",
        "\n",
        "mnist = tf.keras.datasets.mnist"
      ],
      "execution_count": null,
      "outputs": []
    },
    {
      "cell_type": "code",
      "metadata": {
        "id": "sf7SQ4Sm1dWR"
      },
      "source": [
        "(X_train, y_train), (X_test, y_test) = keras.datasets.fashion_mnist.load_data() # load dataset from  keras\n",
        " "
      ],
      "execution_count": null,
      "outputs": []
    },
    {
      "cell_type": "code",
      "metadata": {
        "id": "At6REhDr1dvS"
      },
      "source": [
        "X_train.shape"
      ],
      "execution_count": null,
      "outputs": []
    },
    {
      "cell_type": "code",
      "metadata": {
        "id": "RzkawV0S1dpl"
      },
      "source": [
        "X_test.shape"
      ],
      "execution_count": null,
      "outputs": []
    },
    {
      "cell_type": "code",
      "metadata": {
        "id": "56F_BBvA10rU"
      },
      "source": [
        "y_train.shape\n",
        "y_test.shape"
      ],
      "execution_count": null,
      "outputs": []
    },
    {
      "cell_type": "code",
      "metadata": {
        "id": "4XunINiE10pd"
      },
      "source": [
        "X_train[0]"
      ],
      "execution_count": null,
      "outputs": []
    },
    {
      "cell_type": "code",
      "metadata": {
        "id": "ZLZDfCYw2Ktl"
      },
      "source": [
        "y_train[0]"
      ],
      "execution_count": null,
      "outputs": []
    },
    {
      "cell_type": "code",
      "metadata": {
        "id": "CpObIfPC2Krb"
      },
      "source": [
        "class_labels = [\"T-shirt/top\",\"Trouser\",\"Pullover\",\"Dress\",\"Coat\",\"Sandal\",\"Shirt\",\"Sneaker\",\"Bag\",\"Ankle boot\"]\n",
        "'''\n",
        "0 => T-shirt/top \n",
        "1 => Trouser \n",
        "2 => Pullover \n",
        "3 => Dress \n",
        "4 => Coat \n",
        "5 => Sandal \n",
        "6 => Shirt \n",
        "7 => Sneaker \n",
        "8 => Bag \n",
        "9 => Ankle boot '''"
      ],
      "execution_count": null,
      "outputs": []
    },
    {
      "cell_type": "markdown",
      "metadata": {
        "id": "2hdwx_-m2kaX"
      },
      "source": [
        "**Show image**"
      ]
    },
    {
      "cell_type": "code",
      "metadata": {
        "id": "Cvep74pt2Kma"
      },
      "source": [
        "plt.imshow(X_train[0], cmap='Greys')\n",
        " \n",
        "plt.figure(figsize=(16,16))\n",
        " \n",
        "j=1\n",
        "for i in np.random.randint(0, 1000, 25):\n",
        "  plt.subplot(5,5,j); j+=1\n",
        "  plt.imshow(X_train[i], cmap=\"Greys\")\n",
        "  plt.axis('off') # off the axis\n",
        "  plt.title('{} / {}'.format(class_labels[y_train[i]], y_train[i]))"
      ],
      "execution_count": null,
      "outputs": []
    },
    {
      "cell_type": "markdown",
      "metadata": {
        "id": "yFaH1dKw20fO"
      },
      "source": [
        "**Change Dimention**"
      ]
    },
    {
      "cell_type": "code",
      "metadata": {
        "id": "gFwooIm32Kkl"
      },
      "source": [
        "X_train.shape"
      ],
      "execution_count": null,
      "outputs": []
    },
    {
      "cell_type": "code",
      "metadata": {
        "id": "t4kg91Wu2Kg7"
      },
      "source": [
        "X_train.ndim"
      ],
      "execution_count": null,
      "outputs": []
    },
    {
      "cell_type": "code",
      "metadata": {
        "id": "kh-qkioJ2Kei"
      },
      "source": [
        "# expected conv2d_input to have 4 dimensions, but got array with shape (28, 28, 1)\n",
        "# so we have increase the dimention 3 to 4\n",
        "X_train = np.expand_dims(X_train, -1)\n",
        "X_test = np.expand_dims(X_test, -1)"
      ],
      "execution_count": null,
      "outputs": []
    },
    {
      "cell_type": "code",
      "metadata": {
        "id": "JsABhNj_3Nof"
      },
      "source": [
        "X_train.ndim"
      ],
      "execution_count": null,
      "outputs": []
    },
    {
      "cell_type": "markdown",
      "metadata": {
        "id": "StARZVT33Q96"
      },
      "source": [
        "**Feature Scaling**"
      ]
    },
    {
      "cell_type": "code",
      "metadata": {
        "id": "GWOg-WET3Tvd"
      },
      "source": [
        "X_train = X_train/255\n",
        "X_test = X_test/255"
      ],
      "execution_count": null,
      "outputs": []
    },
    {
      "cell_type": "markdown",
      "metadata": {
        "id": "wC54BNSG3axA"
      },
      "source": [
        "**Split Dataset**"
      ]
    },
    {
      "cell_type": "code",
      "metadata": {
        "id": "9bhN3uBt3ckY"
      },
      "source": [
        "from sklearn.model_selection import train_test_split \n",
        "X_train, X_validation, y_train, y_validation = train_test_split(X_train, y_train, test_size= 0.2, random_state=2020)\n",
        " \n",
        "X_train.shape,  y_train.shape, X_validation.shape, y_validation.shape"
      ],
      "execution_count": null,
      "outputs": []
    },
    {
      "cell_type": "markdown",
      "metadata": {
        "id": "CCLri4Sh6u5w"
      },
      "source": [
        "** Build  Convolutional Neural Network**"
      ]
    },
    {
      "cell_type": "code",
      "metadata": {
        "id": "3sBFUlZt3pBF"
      },
      "source": [
        "\n",
        " \n",
        "#Building CNN model\n",
        "cnn_model = keras.models.Sequential([\n",
        "                         keras.layers.Conv2D(filters=32, kernel_size=3, strides=(1,1), padding='valid',activation= 'relu', input_shape=[28,28,1]),\n",
        "                         keras.layers.MaxPooling2D(pool_size=(2,2)),\n",
        "                         keras.layers.Flatten(),\n",
        "                         keras.layers.Dense(units=128, activation='relu'),\n",
        "                         keras.layers.Dense(units=10, activation='softmax')\n",
        "])\n",
        " \n"
      ],
      "execution_count": null,
      "outputs": []
    },
    {
      "cell_type": "code",
      "metadata": {
        "id": "JUFE4inU5-6L"
      },
      "source": [
        "cnn_model.summary()"
      ],
      "execution_count": null,
      "outputs": []
    },
    {
      "cell_type": "markdown",
      "metadata": {
        "id": "1r1FxkCv6DlQ"
      },
      "source": [
        "**complie the model**"
      ]
    },
    {
      "cell_type": "code",
      "metadata": {
        "id": "gZvvWwcZ6NsF"
      },
      "source": [
        "cnn_model.compile(optimizer='adam', loss= 'sparse_categorical_crossentropy', metrics=['accuracy'])"
      ],
      "execution_count": null,
      "outputs": []
    },
    {
      "cell_type": "markdown",
      "metadata": {
        "id": "7CqAm3rQ6U2d"
      },
      "source": [
        "**train cnn model**"
      ]
    },
    {
      "cell_type": "code",
      "metadata": {
        "id": "IkUOUV0b6NqC"
      },
      "source": [
        "cnn_model.fit(X_train, y_train, epochs=10, batch_size=512, verbose=1, validation_data=(X_validation, y_validation))"
      ],
      "execution_count": null,
      "outputs": []
    },
    {
      "cell_type": "markdown",
      "metadata": {
        "id": "AkfNL7WZ69Tn"
      },
      "source": [
        "**Test and Evaluate Model**"
      ]
    },
    {
      "cell_type": "code",
      "metadata": {
        "id": "hdn0EQco7CcT"
      },
      "source": [
        "y_pred = cnn_model.predict(X_test)"
      ],
      "execution_count": null,
      "outputs": []
    },
    {
      "cell_type": "code",
      "metadata": {
        "id": "qmLsdyro7ZhR"
      },
      "source": [
        "y_pred.round(2)"
      ],
      "execution_count": null,
      "outputs": []
    },
    {
      "cell_type": "code",
      "metadata": {
        "id": "wp_Jcm507arF"
      },
      "source": [
        "y_test\n"
      ],
      "execution_count": null,
      "outputs": []
    },
    {
      "cell_type": "code",
      "metadata": {
        "id": "yDlCoVyP7ega"
      },
      "source": [
        "cnn_model.evaluate(X_test, y_test)"
      ],
      "execution_count": null,
      "outputs": []
    },
    {
      "cell_type": "markdown",
      "metadata": {
        "id": "L_A8Vh0r7nkH"
      },
      "source": [
        "**Visualize output**"
      ]
    },
    {
      "cell_type": "code",
      "metadata": {
        "id": "DHUddDFd7nJC"
      },
      "source": [
        "plt.figure(figsize=(16,16))\n",
        " \n",
        "j=1\n",
        "for i in np.random.randint(0, 1000,25):\n",
        "  plt.subplot(5,5, j); j+=1\n",
        "  plt.imshow(X_test[i].reshape(28,28), cmap = 'Greys')\n",
        "  plt.title('Actual = {} / {} \\nPredicted = {} / {}'.format(class_labels[y_test[i]], y_test[i], class_labels[np.argmax(y_pred[i])],np.argmax(y_pred[i])))\n",
        "  plt.axis('off')"
      ],
      "execution_count": null,
      "outputs": []
    },
    {
      "cell_type": "code",
      "metadata": {
        "id": "HQfBIWpo7jlO"
      },
      "source": [
        "plt.figure(figsize=(16,30))\n",
        " \n",
        "j=1\n",
        "for i in np.random.randint(0, 1000,60):\n",
        "  plt.subplot(10,6, j); j+=1\n",
        "  plt.imshow(X_test[i].reshape(28,28), cmap = 'Greys')\n",
        "  plt.title('Actual = {} / {} \\nPredicted = {} / {}'.format(class_labels[y_test[i]], y_test[i], class_labels[np.argmax(y_pred[i])],np.argmax(y_pred[i])))\n",
        "  plt.axis('off')"
      ],
      "execution_count": null,
      "outputs": []
    },
    {
      "cell_type": "markdown",
      "metadata": {
        "id": "xl9aezbH7_Ef"
      },
      "source": [
        "**Confusion Matrix**"
      ]
    },
    {
      "cell_type": "code",
      "metadata": {
        "id": "wMrOHyAI7jjV"
      },
      "source": [
        "from sklearn.metrics import confusion_matrix\n",
        " \n",
        "plt.figure(figsize=(16,9))\n",
        "y_pred_labels = [ np.argmax(label) for label in y_pred ]\n",
        "cm = confusion_matrix(y_test, y_pred_labels)\n",
        " \n",
        "# show cm \n",
        "sns.heatmap(cm, annot=True, fmt='d',xticklabels=class_labels, yticklabels=class_labels)\n",
        " \n"
      ],
      "execution_count": null,
      "outputs": []
    },
    {
      "cell_type": "code",
      "metadata": {
        "id": "dAH-200M7jed"
      },
      "source": [
        "from sklearn.metrics import classification_report\n",
        "cr= classification_report(y_test, y_pred_labels, target_names=class_labels)\n",
        "print(cr)"
      ],
      "execution_count": null,
      "outputs": []
    },
    {
      "cell_type": "markdown",
      "metadata": {
        "id": "c9OlMMar8h1I"
      },
      "source": [
        "**Save Model**"
      ]
    },
    {
      "cell_type": "code",
      "metadata": {
        "id": "4h8Vp-Kk8yCW"
      },
      "source": [
        "cnn_model.save('fashion_mnist_cnn_model.h5')"
      ],
      "execution_count": null,
      "outputs": []
    },
    {
      "cell_type": "markdown",
      "metadata": {
        "id": "gVoLEbL483fV"
      },
      "source": [
        " Load model"
      ]
    },
    {
      "cell_type": "code",
      "metadata": {
        "id": "s8ZGhE7H88BK"
      },
      "source": [
        "fashion_mnist_cnn_model = keras.models.load_model('fashion_mnist_cnn_model.h5')"
      ],
      "execution_count": null,
      "outputs": []
    },
    {
      "cell_type": "code",
      "metadata": {
        "id": "g7_9EcAW9GfW"
      },
      "source": [
        "Y_pred_sample = fashion_mnist_cnn_model.predict(np.expand_dims(X_test[0], axis=0)).round(2)\n",
        "Y_pred_sample"
      ],
      "execution_count": null,
      "outputs": []
    },
    {
      "cell_type": "code",
      "metadata": {
        "id": "N6M1zIPI9H-J"
      },
      "source": [
        "np.argmax(Y_pred_sample[0])\n",
        " \n",
        "y_test[0]"
      ],
      "execution_count": null,
      "outputs": []
    },
    {
      "cell_type": "markdown",
      "metadata": {
        "id": "8X88kvsk9VX_"
      },
      "source": [
        "** Build 2 Complex CNN**"
      ]
    },
    {
      "cell_type": "code",
      "metadata": {
        "id": "tF4Q-4J59Yi6"
      },
      "source": [
        "cnn_model2 = keras.models.Sequential([\n",
        "                         keras.layers.Conv2D(filters=32, kernel_size=3, strides=(1,1), padding='valid',activation= 'relu', input_shape=[28,28,1]),\n",
        "                         keras.layers.MaxPooling2D(pool_size=(2,2)),\n",
        "                         keras.layers.Conv2D(filters=64, kernel_size=3, strides=(2,2), padding='same', activation='relu'),\n",
        "                         keras.layers.MaxPooling2D(pool_size=(2,2)),\n",
        "                         keras.layers.Flatten(),\n",
        "                         keras.layers.Dense(units=128, activation='relu'),\n",
        "                         keras.layers.Dropout(0.25),\n",
        "                         keras.layers.Dense(units=256, activation='relu'),\n",
        "                         keras.layers.Dropout(0.25),\n",
        "                         keras.layers.Dense(units=128, activation='relu'),\n",
        "                         keras.layers.Dense(units=10, activation='softmax')\n",
        "                         ])"
      ],
      "execution_count": null,
      "outputs": []
    },
    {
      "cell_type": "markdown",
      "metadata": {
        "id": "9yCAC3-39s8n"
      },
      "source": [
        "**complie the model**"
      ]
    },
    {
      "cell_type": "code",
      "metadata": {
        "id": "emlg5i9G9ks5"
      },
      "source": [
        "cnn_model2.compile(optimizer='adam', loss= 'sparse_categorical_crossentropy', metrics=['accuracy'])"
      ],
      "execution_count": null,
      "outputs": []
    },
    {
      "cell_type": "markdown",
      "metadata": {
        "id": "b8x4FT_A-uiv"
      },
      "source": [
        "**#Train the Model**"
      ]
    },
    {
      "cell_type": "code",
      "metadata": {
        "id": "5cUfDWcY9lb5"
      },
      "source": [
        "\n",
        "cnn_model2.fit(X_train, y_train, epochs=10, batch_size=512, verbose=1, validation_data=(X_validation, y_validation))"
      ],
      "execution_count": null,
      "outputs": []
    },
    {
      "cell_type": "code",
      "metadata": {
        "id": "PIQebh4p9laC"
      },
      "source": [
        "cnn_model2.save('fashion_mnist_cnn_model2.h5')\n",
        "\n",
        "\n"
      ],
      "execution_count": null,
      "outputs": []
    },
    {
      "cell_type": "markdown",
      "metadata": {
        "id": "gFrfH5Pp-pkg"
      },
      "source": [
        "**Building CNN model**"
      ]
    },
    {
      "cell_type": "code",
      "metadata": {
        "id": "8-o4PAN0-mx7"
      },
      "source": [
        "cnn_model3 = keras.models.Sequential([\n",
        "                         keras.layers.Conv2D(filters=64, kernel_size=3, strides=(1,1), padding='valid',activation= 'relu', input_shape=[28,28,1]),\n",
        "                         keras.layers.MaxPooling2D(pool_size=(2,2)),\n",
        "                         keras.layers.Conv2D(filters=128, kernel_size=3, strides=(2,2), padding='same', activation='relu'),\n",
        "                         keras.layers.MaxPooling2D(pool_size=(2,2)),\n",
        "                         keras.layers.Conv2D(filters=64, kernel_size=3, strides=(2,2), padding='same', activation='relu'),\n",
        "                         keras.layers.MaxPooling2D(pool_size=(2,2)),\n",
        "                         keras.layers.Flatten(),\n",
        "                         keras.layers.Dense(units=128, activation='relu'),\n",
        "                         keras.layers.Dropout(0.25),\n",
        "                         keras.layers.Dense(units=256, activation='relu'),\n",
        "                         keras.layers.Dropout(0.5),\n",
        "                         keras.layers.Dense(units=256, activation='relu'),\n",
        "                         keras.layers.Dropout(0.25),                        \n",
        "                         keras.layers.Dense(units=128, activation='relu'),\n",
        "                         keras.layers.Dropout(0.10),                         \n",
        "                         keras.layers.Dense(units=10, activation='softmax')\n",
        "                         ])"
      ],
      "execution_count": null,
      "outputs": []
    },
    {
      "cell_type": "code",
      "metadata": {
        "id": "TfnhCQwR-3mo"
      },
      "source": [
        "# complie the model\n",
        "cnn_model3.compile(optimizer='adam', loss= 'sparse_categorical_crossentropy', metrics=['accuracy'])\n",
        " \n",
        "#Train the Model\n",
        "cnn_model3.fit(X_train, y_train, epochs=50, batch_size=512, verbose=1, validation_data=(X_validation, y_validation))\n",
        " \n",
        "cnn_model3.save('fashion_mnist_cnn_model3.h5')\n",
        " \n",
        "cnn_model3.evaluate(X_test, y_test)\n",
        " \n",
        "#End"
      ],
      "execution_count": null,
      "outputs": []
    }
  ]
}